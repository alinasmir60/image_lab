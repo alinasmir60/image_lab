{
  "nbformat": 4,
  "nbformat_minor": 0,
  "metadata": {
    "colab": {
      "provenance": []
    },
    "kernelspec": {
      "name": "python3",
      "display_name": "Python 3"
    },
    "language_info": {
      "name": "python"
    }
  },
  "cells": [
    {
      "cell_type": "code",
      "execution_count": 1,
      "metadata": {
        "colab": {
          "base_uri": "https://localhost:8080/"
        },
        "id": "zvVZf1D5kVTY",
        "outputId": "432823f9-1ab0-4cdb-fc78-df17e47d23e9"
      },
      "outputs": [
        {
          "output_type": "stream",
          "name": "stdout",
          "text": [
            "[[5 0 6]\n",
            " [7 3 2]\n",
            " [4 2 0]]\n"
          ]
        }
      ],
      "source": [
        "import numpy as np\n",
        "array = np.random.randint(0, 8, size=(3, 3))\n",
        "print(array)"
      ]
    }
  ]
}